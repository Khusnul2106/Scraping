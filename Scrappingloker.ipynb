{
  "nbformat": 4,
  "nbformat_minor": 0,
  "metadata": {
    "colab": {
      "provenance": [],
      "authorship_tag": "ABX9TyPSOKF1LTCCU3w9bX6WFzoy",
      "include_colab_link": true
    },
    "kernelspec": {
      "name": "python3",
      "display_name": "Python 3"
    },
    "language_info": {
      "name": "python"
    }
  },
  "cells": [
    {
      "cell_type": "markdown",
      "metadata": {
        "id": "view-in-github",
        "colab_type": "text"
      },
      "source": [
        "<a href=\"https://colab.research.google.com/github/Khusnul2106/Scraping/blob/main/Scrappingloker.ipynb\" target=\"_parent\"><img src=\"https://colab.research.google.com/assets/colab-badge.svg\" alt=\"Open In Colab\"/></a>"
      ]
    },
    {
      "cell_type": "code",
      "execution_count": 1,
      "metadata": {
        "id": "dUli1WeWwvAZ"
      },
      "outputs": [],
      "source": [
        "import requests\n",
        "from bs4 import BeautifulSoup\n",
        "from csv import writer"
      ]
    },
    {
      "cell_type": "code",
      "source": [
        "url = \"https://id.jobstreet.com/id/Data-Science-jobs?sortmode=ListedDate\"\n",
        "res = requests.get(url) # kirimkan header\n",
        "html = BeautifulSoup(res.text, 'html.parser') # parsing html\n",
        "\n",
        "list_loker =[]"
      ],
      "metadata": {
        "id": "K7dI9TDiw8gk"
      },
      "execution_count": 9,
      "outputs": []
    },
    {
      "cell_type": "code",
      "source": [
        "for item in html.find_all('article', class_='_1ungv2r0 _1ungv2r1 _1viagsn8n _1viagsn8o _1viagsn7j _1viagsn7k _1viagsnav _1viagsnaw _1viagsn9r _1viagsn9s _1viagsnh _1viagsn67 _1viagsn5f ny52w0b ny52w09 ny52w0a _3h66av18 _3h66av1b _1viagsn33 _1viagsn36'):\n",
        "  company = item.find(\"span\", class_ = \"_1ungv2r0 _1viagsn4z _3h66av0 _3h66av1 _3h66av21 _1708b944 _3h66ava\").text\n",
        "  loc = item.find(\"span\", class_ = \"_1ungv2r0 _1viagsn4z _3h66av0 _3h66av1 _3h66av21 _1708b944 _3h66av7\").text\n",
        "  list_loker.append(company)\n",
        "  list_loker.append(loc)\n",
        "\n",
        "print(list_loker)\n"
      ],
      "metadata": {
        "colab": {
          "base_uri": "https://localhost:8080/"
        },
        "id": "FuWM7k77xMkL",
        "outputId": "9030c107-28e8-4098-eb05-75a912ebd72f"
      },
      "execution_count": 12,
      "outputs": [
        {
          "output_type": "stream",
          "name": "stdout",
          "text": [
            "['di Balimoon Indonesia', 'Denpasar, Bali', 'di PT Data Sinergitama Jaya', 'Jakarta Selatan, Jakarta Raya', 'di PT Dipo Star Finance', 'Yogyakarta, DI Yogyakarta', 'di PT Findit Technology Services', 'Jakarta Selatan, Jakarta Raya', 'di PT Digital Laskar Pelangi (Orderfaz)', 'Bandung, Jawa Barat', 'di PT Kokoh Inti Arebama Tbk (Group of SCG Indonesia)', 'Jakarta Selatan, Jakarta Raya', 'di PT Central Mega Kencana', 'Jakarta Timur, Jakarta Raya', 'di PT. KMS KONSULTASI SOLUSI', 'Jakarta Selatan, Jakarta Raya', 'di PT Nomura Research Institute Indonesia', 'Jakarta Raya', 'di PT PCI Elektronik Internasional', 'Batam, Kepulauan Riau', 'di PT. Topindo Atlas Asia (Oil TOP1)', 'Jakarta Pusat, Jakarta Raya', 'di PT Beaute Haul Indonesia (Beautyhaul - Somethinc)', 'Kalideres, Jakarta Raya', 'di PT Sigma Cipta Utama', 'Jakarta Pusat, Jakarta Raya', 'di PT. TEKNOLOGI BANGSA CERDAS', 'Jakarta Pusat, Jakarta Raya', 'di PT Prudential Life Assurance', 'Jakarta Raya', 'di Kompas Gramedia - KG Media', 'Jakarta Pusat, Jakarta Raya', 'di PT Guna Bakti Unggul', 'Tangerang, Banten', 'di PT. Pintar Inovasi Digital', 'Jakarta Selatan, Jakarta Raya', 'di PT SMART,Tbk', 'Jakarta Pusat, Jakarta Raya', 'di PT Volarex Jaya Utama', 'Malang, Jawa Timur', 'di PT Teknologi Internasional Nusantara', 'Yogyakarta, DI Yogyakarta', 'di PT XL Axiata Tbk', 'Kebayoran Lama, Jakarta Raya', 'di PT Berlian Laju Tanker, Tbk', 'Jakarta Pusat, Jakarta Raya', 'di PT Anugrah Persada Alam', 'Jakarta Raya', 'di PT Delta Sukses Teknologi', 'Tangerang, Banten', 'di Paramount Enterprise', 'Banten', 'di PT ABM Investama', 'Cilandak, Jakarta Raya', 'di PT Saka Agung Abadi', 'Denpasar, Bali', 'di PT Solusi Transportasi Indonesia', 'Jakarta Raya', 'di PT Aplikasi Karya Anak Bangsa (GO-JEK Indonesia)', 'Jakarta Raya', 'di PT Kelola Jasa Artha (Kejar)', 'Jakarta Pusat, Jakarta Raya', 'di PT Aplikasi Karya Anak Bangsa (GO-JEK Indonesia)', 'Jakarta Raya', 'di Balimoon Indonesia', 'Denpasar, Bali', 'di PT Data Sinergitama Jaya', 'Jakarta Selatan, Jakarta Raya', 'di PT Dipo Star Finance', 'Yogyakarta, DI Yogyakarta', 'di PT Findit Technology Services', 'Jakarta Selatan, Jakarta Raya', 'di PT Digital Laskar Pelangi (Orderfaz)', 'Bandung, Jawa Barat', 'di PT Kokoh Inti Arebama Tbk (Group of SCG Indonesia)', 'Jakarta Selatan, Jakarta Raya', 'di PT Central Mega Kencana', 'Jakarta Timur, Jakarta Raya', 'di PT. KMS KONSULTASI SOLUSI', 'Jakarta Selatan, Jakarta Raya', 'di PT Nomura Research Institute Indonesia', 'Jakarta Raya', 'di PT PCI Elektronik Internasional', 'Batam, Kepulauan Riau', 'di PT. Topindo Atlas Asia (Oil TOP1)', 'Jakarta Pusat, Jakarta Raya', 'di PT Beaute Haul Indonesia (Beautyhaul - Somethinc)', 'Kalideres, Jakarta Raya', 'di PT Sigma Cipta Utama', 'Jakarta Pusat, Jakarta Raya', 'di PT. TEKNOLOGI BANGSA CERDAS', 'Jakarta Pusat, Jakarta Raya', 'di PT Prudential Life Assurance', 'Jakarta Raya', 'di Kompas Gramedia - KG Media', 'Jakarta Pusat, Jakarta Raya', 'di PT Guna Bakti Unggul', 'Tangerang, Banten', 'di PT. Pintar Inovasi Digital', 'Jakarta Selatan, Jakarta Raya', 'di PT SMART,Tbk', 'Jakarta Pusat, Jakarta Raya', 'di PT Volarex Jaya Utama', 'Malang, Jawa Timur', 'di PT Teknologi Internasional Nusantara', 'Yogyakarta, DI Yogyakarta', 'di PT XL Axiata Tbk', 'Kebayoran Lama, Jakarta Raya', 'di PT Berlian Laju Tanker, Tbk', 'Jakarta Pusat, Jakarta Raya', 'di PT Anugrah Persada Alam', 'Jakarta Raya', 'di PT Delta Sukses Teknologi', 'Tangerang, Banten', 'di Paramount Enterprise', 'Banten', 'di PT ABM Investama', 'Cilandak, Jakarta Raya', 'di PT Saka Agung Abadi', 'Denpasar, Bali', 'di PT Solusi Transportasi Indonesia', 'Jakarta Raya', 'di PT Aplikasi Karya Anak Bangsa (GO-JEK Indonesia)', 'Jakarta Raya', 'di PT Kelola Jasa Artha (Kejar)', 'Jakarta Pusat, Jakarta Raya', 'di PT Aplikasi Karya Anak Bangsa (GO-JEK Indonesia)', 'Jakarta Raya', 'di PT Nutrifood Indonesia', 'Jakarta Raya', 'di Balimoon Indonesia', 'Denpasar, Bali', 'di PT Data Sinergitama Jaya', 'Jakarta Selatan, Jakarta Raya', 'di PT Dipo Star Finance', 'Yogyakarta, DI Yogyakarta', 'di PT Findit Technology Services', 'Jakarta Selatan, Jakarta Raya', 'di PT Digital Laskar Pelangi (Orderfaz)', 'Bandung, Jawa Barat', 'di PT Kokoh Inti Arebama Tbk (Group of SCG Indonesia)', 'Jakarta Selatan, Jakarta Raya', 'di PT Central Mega Kencana', 'Jakarta Timur, Jakarta Raya', 'di PT. KMS KONSULTASI SOLUSI', 'Jakarta Selatan, Jakarta Raya', 'di PT Nomura Research Institute Indonesia', 'Jakarta Raya', 'di PT PCI Elektronik Internasional', 'Batam, Kepulauan Riau', 'di PT. Topindo Atlas Asia (Oil TOP1)', 'Jakarta Pusat, Jakarta Raya', 'di PT Beaute Haul Indonesia (Beautyhaul - Somethinc)', 'Kalideres, Jakarta Raya', 'di PT Sigma Cipta Utama', 'Jakarta Pusat, Jakarta Raya', 'di PT. TEKNOLOGI BANGSA CERDAS', 'Jakarta Pusat, Jakarta Raya', 'di PT Prudential Life Assurance', 'Jakarta Raya', 'di Kompas Gramedia - KG Media', 'Jakarta Pusat, Jakarta Raya', 'di PT Guna Bakti Unggul', 'Tangerang, Banten', 'di PT. Pintar Inovasi Digital', 'Jakarta Selatan, Jakarta Raya', 'di PT SMART,Tbk', 'Jakarta Pusat, Jakarta Raya', 'di PT Volarex Jaya Utama', 'Malang, Jawa Timur', 'di PT Teknologi Internasional Nusantara', 'Yogyakarta, DI Yogyakarta', 'di PT XL Axiata Tbk', 'Kebayoran Lama, Jakarta Raya', 'di PT Berlian Laju Tanker, Tbk', 'Jakarta Pusat, Jakarta Raya', 'di PT Anugrah Persada Alam', 'Jakarta Raya', 'di PT Delta Sukses Teknologi', 'Tangerang, Banten', 'di Paramount Enterprise', 'Banten', 'di PT ABM Investama', 'Cilandak, Jakarta Raya', 'di PT Saka Agung Abadi', 'Denpasar, Bali', 'di PT Solusi Transportasi Indonesia', 'Jakarta Raya', 'di PT Aplikasi Karya Anak Bangsa (GO-JEK Indonesia)', 'Jakarta Raya', 'di PT Kelola Jasa Artha (Kejar)', 'Jakarta Pusat, Jakarta Raya', 'di PT Nutrifood Indonesia', 'Jakarta Raya', 'di Balimoon Indonesia', 'Denpasar, Bali', 'di PT Data Sinergitama Jaya', 'Jakarta Selatan, Jakarta Raya', 'di PT Dipo Star Finance', 'Yogyakarta, DI Yogyakarta', 'di PT Findit Technology Services', 'Jakarta Selatan, Jakarta Raya', 'di PT Digital Laskar Pelangi (Orderfaz)', 'Bandung, Jawa Barat', 'di PT Kokoh Inti Arebama Tbk (Group of SCG Indonesia)', 'Jakarta Selatan, Jakarta Raya', 'di PT Central Mega Kencana', 'Jakarta Timur, Jakarta Raya', 'di PT. KMS KONSULTASI SOLUSI', 'Jakarta Selatan, Jakarta Raya', 'di PT Nomura Research Institute Indonesia', 'Jakarta Raya', 'di PT PCI Elektronik Internasional', 'Batam, Kepulauan Riau', 'di PT. Topindo Atlas Asia (Oil TOP1)', 'Jakarta Pusat, Jakarta Raya', 'di PT Beaute Haul Indonesia (Beautyhaul - Somethinc)', 'Kalideres, Jakarta Raya', 'di PT Sigma Cipta Utama', 'Jakarta Pusat, Jakarta Raya', 'di PT. TEKNOLOGI BANGSA CERDAS', 'Jakarta Pusat, Jakarta Raya', 'di PT Prudential Life Assurance', 'Jakarta Raya', 'di Kompas Gramedia - KG Media', 'Jakarta Pusat, Jakarta Raya', 'di PT Guna Bakti Unggul', 'Tangerang, Banten', 'di PT. Pintar Inovasi Digital', 'Jakarta Selatan, Jakarta Raya', 'di PT SMART,Tbk', 'Jakarta Pusat, Jakarta Raya', 'di PT Volarex Jaya Utama', 'Malang, Jawa Timur', 'di PT Teknologi Internasional Nusantara', 'Yogyakarta, DI Yogyakarta', 'di PT XL Axiata Tbk', 'Kebayoran Lama, Jakarta Raya', 'di PT Berlian Laju Tanker, Tbk', 'Jakarta Pusat, Jakarta Raya', 'di PT Anugrah Persada Alam', 'Jakarta Raya', 'di PT Delta Sukses Teknologi', 'Tangerang, Banten', 'di Paramount Enterprise', 'Banten', 'di PT ABM Investama', 'Cilandak, Jakarta Raya', 'di PT Saka Agung Abadi', 'Denpasar, Bali', 'di PT Solusi Transportasi Indonesia', 'Jakarta Raya', 'di PT Aplikasi Karya Anak Bangsa (GO-JEK Indonesia)', 'Jakarta Raya', 'di PT Kelola Jasa Artha (Kejar)', 'Jakarta Pusat, Jakarta Raya', 'di PT Nutrifood Indonesia', 'Jakarta Raya', 'di Balimoon Indonesia', 'Denpasar, Bali', 'di PT Data Sinergitama Jaya', 'Jakarta Selatan, Jakarta Raya', 'di PT Dipo Star Finance', 'Yogyakarta, DI Yogyakarta', 'di PT Findit Technology Services', 'Jakarta Selatan, Jakarta Raya', 'di PT Digital Laskar Pelangi (Orderfaz)', 'Bandung, Jawa Barat', 'di PT Kokoh Inti Arebama Tbk (Group of SCG Indonesia)', 'Jakarta Selatan, Jakarta Raya', 'di PT Central Mega Kencana', 'Jakarta Timur, Jakarta Raya', 'di PT. KMS KONSULTASI SOLUSI', 'Jakarta Selatan, Jakarta Raya', 'di PT Nomura Research Institute Indonesia', 'Jakarta Raya', 'di PT PCI Elektronik Internasional', 'Batam, Kepulauan Riau', 'di PT. Topindo Atlas Asia (Oil TOP1)', 'Jakarta Pusat, Jakarta Raya', 'di PT Beaute Haul Indonesia (Beautyhaul - Somethinc)', 'Kalideres, Jakarta Raya', 'di PT Sigma Cipta Utama', 'Jakarta Pusat, Jakarta Raya', 'di PT. TEKNOLOGI BANGSA CERDAS', 'Jakarta Pusat, Jakarta Raya', 'di PT Prudential Life Assurance', 'Jakarta Raya', 'di Kompas Gramedia - KG Media', 'Jakarta Pusat, Jakarta Raya', 'di PT Guna Bakti Unggul', 'Tangerang, Banten', 'di PT. Pintar Inovasi Digital', 'Jakarta Selatan, Jakarta Raya', 'di PT SMART,Tbk', 'Jakarta Pusat, Jakarta Raya', 'di PT Volarex Jaya Utama', 'Malang, Jawa Timur', 'di PT Teknologi Internasional Nusantara', 'Yogyakarta, DI Yogyakarta', 'di PT XL Axiata Tbk', 'Kebayoran Lama, Jakarta Raya', 'di PT Berlian Laju Tanker, Tbk', 'Jakarta Pusat, Jakarta Raya', 'di PT Anugrah Persada Alam', 'Jakarta Raya', 'di PT Delta Sukses Teknologi', 'Tangerang, Banten', 'di Paramount Enterprise', 'Banten', 'di PT ABM Investama', 'Cilandak, Jakarta Raya', 'di PT Saka Agung Abadi', 'Denpasar, Bali', 'di PT Solusi Transportasi Indonesia', 'Jakarta Raya', 'di PT Aplikasi Karya Anak Bangsa (GO-JEK Indonesia)', 'Jakarta Raya', 'di PT Kelola Jasa Artha (Kejar)', 'Jakarta Pusat, Jakarta Raya']\n"
          ]
        }
      ]
    },
    {
      "cell_type": "code",
      "source": [
        "with open('/content/sample_data/daftar_loker_ds.csv', 'w') as csv_file:\n",
        "  csv_writer = writer(csv_file)\n",
        "  headers = ['Nama company', '\\n' 'Location'] # buat nama kolom\n",
        "  csv_writer.writerow(headers)  #buat kolom csv\n",
        "\n",
        "  for item in list_loker:\n",
        "    item = item.replace('\\n', '')\n",
        "    csv_writer.writerow([item])"
      ],
      "metadata": {
        "id": "X9HUpAKA4E_5"
      },
      "execution_count": 18,
      "outputs": []
    },
    {
      "cell_type": "code",
      "source": [
        "# print(len(html.find_all(\"article\", class_=\"_1ungv2r0 _1ungv2r1 _1viagsn8n _1viagsn8o _1viagsn7j _1viagsn7k _1viagsnav _1viagsnaw _1viagsn9r _1viagsn9s _1viagsnh _1viagsn67 _1viagsn5f ny52w0b ny52w09 ny52w0a _3h66av18 _3h66av1b _1viagsn33 _1viagsn36\")))\n",
        "\n",
        "# span_elements = html.find_all(\"span\")\n",
        "# print(\"Jumlah elemen <span> ditemukan:\", len(span_elements))\n",
        "\n",
        "# span_company = html.find_all(\"span\", class_=\"_1ungv2r0 _1viagsn4z _3h66av0 _3h66av1 _3h66av21 _1708b944 _3h66ava\")\n",
        "# print(\"Jumlah elemen <span class='company'> ditemukan:\", len(span_company))\n",
        "\n",
        "# span_loc = html.find_all(\"span\", class_=\"_1ungv2r0 _1viagsn4z _3h66av0 _3h66av1 _3h66av21 _1708b944 _3h66av7\")\n",
        "# print(\"Jumlah elemen <span class='loc'> ditemukan:\", len(span_loc))"
      ],
      "metadata": {
        "colab": {
          "base_uri": "https://localhost:8080/"
        },
        "id": "9cwqzomfxsJg",
        "outputId": "dc614949-0914-45c9-c8b1-c1320f000577"
      },
      "execution_count": 6,
      "outputs": [
        {
          "output_type": "stream",
          "name": "stdout",
          "text": [
            "32\n",
            "Jumlah elemen <span> ditemukan: 1144\n",
            "Jumlah elemen <span class='company'> ditemukan: 73\n",
            "Jumlah elemen <span class='loc'> ditemukan: 101\n"
          ]
        }
      ]
    }
  ]
}